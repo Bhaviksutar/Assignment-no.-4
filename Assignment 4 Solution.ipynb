{
 "cells": [
  {
   "cell_type": "markdown",
   "id": "ad307117",
   "metadata": {},
   "source": [
    "# Assignment No. 4"
   ]
  },
  {
   "cell_type": "markdown",
   "id": "36a0c9e0",
   "metadata": {},
   "source": [
    "#Question No. 1:- What exactly is []?\n",
    "\n",
    "Ans-\n",
    " [ ] this is an empty list."
   ]
  },
  {
   "cell_type": "code",
   "execution_count": 7,
   "id": "e24ddf7e",
   "metadata": {},
   "outputs": [],
   "source": [
    "#Question No. 2:- In a list of values stored in a variable called spam, how would you assign the value 'hello' as the third value? (Assume [2, 4, 6, 8, 10] are in spam.)\n",
    "\n",
    "spam = [2, 4, 6, 8, 10] \n",
    "spam[2]= \"hello\""
   ]
  },
  {
   "cell_type": "code",
   "execution_count": 8,
   "id": "5ca950ed",
   "metadata": {},
   "outputs": [
    {
     "data": {
      "text/plain": [
       "[2, 4, 'hello', 8, 10]"
      ]
     },
     "execution_count": 8,
     "metadata": {},
     "output_type": "execute_result"
    }
   ],
   "source": [
    "spam"
   ]
  },
  {
   "cell_type": "code",
   "execution_count": 9,
   "id": "0db55c1d",
   "metadata": {},
   "outputs": [
    {
     "data": {
      "text/plain": [
       "8"
      ]
     },
     "execution_count": 9,
     "metadata": {},
     "output_type": "execute_result"
    }
   ],
   "source": [
    "#Question No. 3:- What is the value of spam[int(int('3' * 2) / 11)]?\n",
    "\n",
    "spam[int(int('3' * 2) / 11)]"
   ]
  },
  {
   "cell_type": "code",
   "execution_count": 10,
   "id": "ff40ce02",
   "metadata": {},
   "outputs": [],
   "source": [
    "spam = ['a', 'b', 'c', 'd']"
   ]
  },
  {
   "cell_type": "code",
   "execution_count": 11,
   "id": "536e79cc",
   "metadata": {},
   "outputs": [
    {
     "data": {
      "text/plain": [
       "'d'"
      ]
     },
     "execution_count": 11,
     "metadata": {},
     "output_type": "execute_result"
    }
   ],
   "source": [
    "#Question No. 4:- What is the value of spam[-1]?\n",
    "\n",
    "spam[-1]"
   ]
  },
  {
   "cell_type": "code",
   "execution_count": 12,
   "id": "cb09e3ef",
   "metadata": {},
   "outputs": [
    {
     "data": {
      "text/plain": [
       "['a', 'b']"
      ]
     },
     "execution_count": 12,
     "metadata": {},
     "output_type": "execute_result"
    }
   ],
   "source": [
    "#Question No. 5:- What is the value of spam[:2]?\n",
    "\n",
    "spam[:2]"
   ]
  },
  {
   "cell_type": "code",
   "execution_count": 14,
   "id": "bddf1004",
   "metadata": {},
   "outputs": [],
   "source": [
    "bacon = [3.14, 'cat', 11, 'cat', True] "
   ]
  },
  {
   "cell_type": "code",
   "execution_count": 15,
   "id": "a6a5c6ad",
   "metadata": {},
   "outputs": [
    {
     "data": {
      "text/plain": [
       "1"
      ]
     },
     "execution_count": 15,
     "metadata": {},
     "output_type": "execute_result"
    }
   ],
   "source": [
    "#Question No. 6:- What is the value of bacon.index('cat')?\n",
    "\n",
    "bacon.index('cat')"
   ]
  },
  {
   "cell_type": "code",
   "execution_count": 16,
   "id": "d01de4d7",
   "metadata": {},
   "outputs": [],
   "source": [
    "#Question No. 7:- How does bacon.append(99) change the look of the list value in bacon?\n",
    "\n",
    "bacon.append(99)"
   ]
  },
  {
   "cell_type": "code",
   "execution_count": 17,
   "id": "7d333b1e",
   "metadata": {},
   "outputs": [
    {
     "data": {
      "text/plain": [
       "[3.14, 'cat', 11, 'cat', True, 99]"
      ]
     },
     "execution_count": 17,
     "metadata": {},
     "output_type": "execute_result"
    }
   ],
   "source": [
    "bacon"
   ]
  },
  {
   "cell_type": "code",
   "execution_count": 18,
   "id": "0991e3ba",
   "metadata": {},
   "outputs": [],
   "source": [
    "#Question No. 8:- How does bacon.remove('cat') change the look of the list in bacon?\n",
    "\n",
    "bacon.remove('cat')"
   ]
  },
  {
   "cell_type": "code",
   "execution_count": 19,
   "id": "d499dc8b",
   "metadata": {},
   "outputs": [
    {
     "data": {
      "text/plain": [
       "[3.14, 11, 'cat', True, 99]"
      ]
     },
     "execution_count": 19,
     "metadata": {},
     "output_type": "execute_result"
    }
   ],
   "source": [
    "bacon"
   ]
  },
  {
   "cell_type": "markdown",
   "id": "5c74b2d0",
   "metadata": {},
   "source": [
    "#Question No. 9:- What are the list concatenation and list replication operators?\n",
    "\n",
    "The operator for list concatenation is +, \n",
    "\n",
    "The operator for replication is *."
   ]
  },
  {
   "cell_type": "markdown",
   "id": "d36c7bc0",
   "metadata": {},
   "source": [
    "#Question No. 10:- What is difference between the list methods append() and insert()?\n",
    "\n",
    "Ans -\n",
    " Difference between append() and insert() is that insert function allows us to add a specific element at a specified index of the list unlike append() where we can add the element only at end of the list."
   ]
  },
  {
   "cell_type": "markdown",
   "id": "571f7575",
   "metadata": {},
   "source": [
    "#Question No. 11:- What are the two methods for removing items from a list?\n",
    "\n",
    "Ans -\n",
    " The two methods for removing items from a list are:\n",
    "        \n",
    "        1. pop()\n",
    "        \n",
    "        2. remove()"
   ]
  },
  {
   "cell_type": "markdown",
   "id": "f6445107",
   "metadata": {},
   "source": [
    "#Question No. 12:- Describe how list values and string values are identical.\n",
    "\n",
    "Ans -\n",
    "\n",
    "list values and string values are not identical because\n",
    " \n",
    " 1. Lists are mutable and string are immutable\n",
    "    \n",
    " \n",
    " 2. elements of a list can be of different types whereas a String only contains characters that are all of String type."
   ]
  },
  {
   "cell_type": "markdown",
   "id": "a3c84fec",
   "metadata": {},
   "source": [
    "#Question No. 13:- What's the difference between tuples and lists?\n",
    "\n",
    "Ans-\n",
    "\n",
    "1. The tuples are immutable while the lists are mutable. \n",
    "\n",
    "\n",
    "2. This means that tuples cannot be changed while the lists can be modified."
   ]
  },
  {
   "cell_type": "markdown",
   "id": "3b0768a1",
   "metadata": {},
   "source": [
    "#Question No. 14:- How do you type a tuple value that only contains the integer 42?\n",
    "\n",
    "Ans - \n",
    "\n",
    "we can type a tuple value by (42,)"
   ]
  },
  {
   "cell_type": "markdown",
   "id": "e0f5b1ad",
   "metadata": {},
   "source": [
    "#Question No. 15:- How do you get a list value's tuple form? How do you get a tuple value's list form?\n",
    "\n",
    "Ans - \n",
    "\n",
    "The tuple() and list() functions can be used for finding the list and tuple form"
   ]
  },
  {
   "cell_type": "markdown",
   "id": "ddc53b18",
   "metadata": {},
   "source": [
    "#Question No. 16:- Variables that \"contain\" list values are not necessarily lists themselves. Instead, what do they contain?\n",
    "\n",
    "Ans- \n",
    "\n",
    "They contain references to list values."
   ]
  },
  {
   "cell_type": "markdown",
   "id": "10cf740c",
   "metadata": {},
   "source": [
    "#Question No. 17:- How do you distinguish between copy.copy() and copy.deepcopy()?\n",
    "\n",
    "Ans-\n",
    "\n",
    "The copy.copy() function will do a copy of a list, while the copy.deepcopy() function will do a deep copy of a list. \n",
    "That is, only copy.deepcopy() will duplicate any lists inside the list."
   ]
  },
  {
   "cell_type": "code",
   "execution_count": null,
   "id": "41b64fb0",
   "metadata": {},
   "outputs": [],
   "source": []
  }
 ],
 "metadata": {
  "kernelspec": {
   "display_name": "Python 3 (ipykernel)",
   "language": "python",
   "name": "python3"
  },
  "language_info": {
   "codemirror_mode": {
    "name": "ipython",
    "version": 3
   },
   "file_extension": ".py",
   "mimetype": "text/x-python",
   "name": "python",
   "nbconvert_exporter": "python",
   "pygments_lexer": "ipython3",
   "version": "3.9.7"
  }
 },
 "nbformat": 4,
 "nbformat_minor": 5
}
